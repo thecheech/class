{
 "cells": [
  {
   "cell_type": "code",
   "execution_count": null,
   "metadata": {
    "collapsed": false
   },
   "outputs": [],
   "source": [
    "import pandas as pd\n",
    "import numpy as np"
   ]
  },
  {
   "cell_type": "code",
   "execution_count": null,
   "metadata": {
    "collapsed": true
   },
   "outputs": [],
   "source": [
    "s = pd.Series([0.2, 0.4, 0.8, 1.6])\n",
    "\n",
    "s.index\n",
    "# returns: Int64Index([0, 1, 2, 3], dtype=\"int64\")\n",
    "\n",
    "s.values\n",
    "# returns: array([ 0.2, 0.4, 0.8, 1.6 ])\n",
    "\n",
    "s[0]  # to access data\n",
    "\n",
    "s2 = pd.Series([0.2, 0.4, 0.8, 1.6], index=['a', 'c', 'b', 'd'])"
   ]
  },
  {
   "cell_type": "code",
   "execution_count": null,
   "metadata": {
    "collapsed": false
   },
   "outputs": [],
   "source": [
    "agedata = {\"francois\": 51, \"angela\": 51, \"barack\": 55}\n",
    "\n",
    "s3 = pd.Series(agedata)  # create from dict\n",
    "\n",
    "s3[s3 > 52]  # filtering\n",
    "\n",
    "s3 * 2  # scalar multiplication\n",
    "s3.mean()\n",
    "\n",
    "np.exp(s3)  # exponential\n",
    "\n",
    "\"angela\" in s3  # boolean to find if a key is in\n",
    "\n",
    "s3[[\"angela\", \"barack\"]]  # get several values"
   ]
  },
  {
   "cell_type": "code",
   "execution_count": null,
   "metadata": {
    "collapsed": false
   },
   "outputs": [],
   "source": [
    "agedata = {\"francois\": 51, \"angela\": 51, \"barack\": 55}\n",
    "presidents = [\"barack\", \"francois\", \"angela\", \"georges\"]\n",
    "\n",
    "s4 = pd.Series(agedata, index=presidents)\n",
    "\n",
    "pd.isnull(s4)\n",
    "s4.isnull()\n",
    "pd.notnull(s4)\n",
    "\n",
    "s3 + s4"
   ]
  },
  {
   "cell_type": "code",
   "execution_count": null,
   "metadata": {
    "collapsed": true
   },
   "outputs": [],
   "source": [
    "s4.name = \"presidents_ages\"\n",
    "s4.index.name = \"name\"\n",
    "\n",
    "s4.index = [\"Lula\", \"Cameron\", \"Renzi\", \"Putin\"]"
   ]
  },
  {
   "cell_type": "code",
   "execution_count": null,
   "metadata": {
    "collapsed": true
   },
   "outputs": [],
   "source": [
    "data = {\n",
    "    \"city\": [\"Paris\", \"London\", \"Berlin\"],\n",
    "    \"density\": [3550, 5100, 3750],\n",
    "    \"area\": [2723, 1623, 984],\n",
    "    \"population\": [9645000, 8278000, 3675000],\n",
    "}\n",
    "\n",
    "df = pd.DataFrame(data)"
   ]
  },
  {
   "cell_type": "code",
   "execution_count": null,
   "metadata": {
    "collapsed": false
   },
   "outputs": [],
   "source": [
    "columns = [\"city\", \"area\", \"population\", \"density\"]\n",
    "df = pd.DataFrame(data, columns=columns)\n",
    "df[\"area\"]\n",
    "df.area\n",
    "# returns a Series object of the areas in the df\n",
    "\n",
    "df.dtypes  # to get the types of columns\n",
    "\n",
    "df.info()\n",
    "df.describe()  # give stats on the df\n",
    "df.values\n",
    "df.index\n",
    "\n",
    "df = df.set_index(\"city\")"
   ]
  },
  {
   "cell_type": "code",
   "execution_count": null,
   "metadata": {
    "collapsed": false
   },
   "outputs": [],
   "source": [
    "df[\"population\"] / df[\"area\"]\n",
    "\n",
    "df[\"real_density\"] = df[\"population\"] / df[\"area\"]\n",
    "\n",
    "df.ix[\"Paris\"]  # to get the row with index \"Paris\"\n",
    "\n",
    "df[df[\"real_density\"] < 5000]  # to fiter by density\n",
    "\n",
    "df.sort_values(by=\"real_density\", ascending=True)  # to sort"
   ]
  },
  {
   "cell_type": "code",
   "execution_count": null,
   "metadata": {
    "collapsed": false
   },
   "outputs": [],
   "source": [
    "df[\"population\"] / df[\"area\"]\n",
    "\n",
    "df[\"real_density\"] = df[\"population\"] / df[\"area\"]\n",
    "\n",
    "df.ix[\"Paris\"]  # to get the row with index \"Paris\"\n",
    "\n",
    "df[df[\"real_density\"] < 5000]  # to filter by density\n",
    "\n",
    "df.sort_values(by=\"real_density\", ascending=True)  # to sort\n",
    "\n",
    "df.iloc[1]"
   ]
  },
  {
   "cell_type": "code",
   "execution_count": null,
   "metadata": {
    "collapsed": true
   },
   "outputs": [],
   "source": [
    "df.iloc[1, 2] = 10\n",
    "df.iloc[1, :] = 10\n",
    "\n",
    "df[df[\"density\"] == 10] = 6000"
   ]
  },
  {
   "cell_type": "code",
   "execution_count": null,
   "metadata": {
    "collapsed": false
   },
   "outputs": [],
   "source": [
    "# creating and dropping columns\n",
    "\n",
    "# create from python list or pandas series\n",
    "df['new_column'] = [1,2,3]\n",
    "\n",
    "# create as a transofrmation of other columns\n",
    "df['density_diff'] = df['density'] - df[\"real_density\"]\n",
    "\n",
    "# drop columns and rows\n",
    "df.drop(['density_diff'], axis=1, inplace=True)\n",
    "df.drop(['London'], axis=0, inplace=True)"
   ]
  },
  {
   "cell_type": "code",
   "execution_count": null,
   "metadata": {
    "collapsed": false
   },
   "outputs": [],
   "source": [
    "df = pd.read_csv(\"data/population.csv\")\n",
    "\n",
    "# parameters\n",
    "_='''\n",
    "df1 = pd.read_csv(filename,\n",
    "    sep=\",\",\n",
    "    header=None, # Row number to use as the column names\n",
    "    names=[], # List of column names to use\n",
    "    index_col=[], # Column to use as the row labels of the DataFrame\n",
    "    na_values=[], # Additional strings to recognize as NA/NaN\n",
    ")\n",
    "'''"
   ]
  },
  {
   "cell_type": "code",
   "execution_count": null,
   "metadata": {
    "collapsed": true
   },
   "outputs": [],
   "source": [
    "df.to_csv(\"output/population_out.csv\", index=False)"
   ]
  },
  {
   "cell_type": "code",
   "execution_count": null,
   "metadata": {
    "collapsed": false
   },
   "outputs": [],
   "source": [
    "df.sort_values(by=\"Land area\", ascending=False)\n",
    "\n",
    "data1 = df[[\"City / Urban area\", \"Country\", \"Population\"]].set_index([\n",
    "        \"City / Urban area\", \"Country\"])\n",
    "\n",
    "# reset the index to be incremental\n",
    "data1.reset_index(inplace=True)"
   ]
  },
  {
   "cell_type": "code",
   "execution_count": null,
   "metadata": {
    "collapsed": false
   },
   "outputs": [],
   "source": [
    "# joining df on index\n",
    "\n",
    "left = pd.DataFrame({'A': ['A0', 'A1', 'A2'],\n",
    "                      'B': ['B0', 'B1', 'B2']},\n",
    "                      index=['K0', 'K1', 'K2'])\n",
    "left"
   ]
  },
  {
   "cell_type": "code",
   "execution_count": null,
   "metadata": {
    "collapsed": false
   },
   "outputs": [],
   "source": [
    "right = pd.DataFrame({'C': ['C0', 'C2', 'C3'],\n",
    "                       'D': ['D0', 'D2', 'D3']},\n",
    "                       index=['K0', 'K2', 'K3'])\n",
    "right"
   ]
  },
  {
   "cell_type": "code",
   "execution_count": null,
   "metadata": {
    "collapsed": false
   },
   "outputs": [],
   "source": [
    "left.join(right)"
   ]
  },
  {
   "cell_type": "code",
   "execution_count": null,
   "metadata": {
    "collapsed": false
   },
   "outputs": [],
   "source": [
    "# joining df on a column\n",
    "\n",
    "left = pd.DataFrame({'A': ['A0', 'A1', 'A2', 'A3'],\n",
    "                                  'B': ['B0', 'B1', 'B2', 'B3'],\n",
    "                                  'key': ['K0', 'K1', 'K0', 'K1']})\n",
    "\n",
    "\n",
    "right = pd.DataFrame({'C': ['C0', 'C1'],\n",
    "                                  'D': ['D0', 'D1']},\n",
    "                                  index=['K0', 'K1'])\n",
    "\n",
    "\n",
    "result = left.join(right, on='key', how='inner')\n",
    "result"
   ]
  },
  {
   "cell_type": "code",
   "execution_count": null,
   "metadata": {
    "collapsed": true
   },
   "outputs": [],
   "source": [
    "# joining df with multiple columns\n",
    "\n",
    "left = pd.DataFrame({'key1': ['K0', 'K0', 'K1', 'K2'],\n",
    "                                  'key2': ['K0', 'K1', 'K0', 'K1'],\n",
    "                                  'A': ['A0', 'A1', 'A2', 'A3'],\n",
    "                                  'B': ['B0', 'B1', 'B2', 'B3']})\n",
    "\n",
    "\n",
    "right = pd.DataFrame({'key1': ['K0', 'K1', 'K1', 'K2'],\n",
    "                                   'key2': ['K0', 'K0', 'K0', 'K0'],\n",
    "                                   'C': ['C0', 'C1', 'C2', 'C3'],\n",
    "                                   'D': ['D0', 'D1', 'D2', 'D3']})\n",
    " \n",
    "\n",
    "result = pd.merge(left, right, on=['key1', 'key2'])"
   ]
  },
  {
   "cell_type": "code",
   "execution_count": null,
   "metadata": {
    "collapsed": false
   },
   "outputs": [],
   "source": [
    "# concatenating df\n",
    "\n",
    "df2 = pd.DataFrame({'key1': ['K0', 'K0', 'K1', 'K2'],\n",
    "                                  'key2': ['K0', 'K1', 'K0', 'K1'],\n",
    "                                  'A': ['A0', 'A1', 'A2', 'A3'],\n",
    "                                  'B': ['B0', 'B1', 'B2', 'B3']})\n",
    "\n",
    "\n",
    "df1 = pd.DataFrame({'key1': ['K0', 'K1', 'K1', 'K2'],\n",
    "                                   'key2': ['K0', 'K0', 'K0', 'K0'],\n",
    "                                   'C': ['C0', 'C1', 'C2', 'C3'],\n",
    "                                   'D': ['D0', 'D1', 'D2', 'D3']})\n",
    "\n",
    "#pd.concat([df1, df2], axis=0)\n",
    "\n",
    "pd.concat([df1, df2], axis=1)"
   ]
  },
  {
   "cell_type": "code",
   "execution_count": null,
   "metadata": {
    "collapsed": false
   },
   "outputs": [],
   "source": [
    "population = pd.read_csv('data/population.csv')\n",
    "\n",
    "population.groupby('Country').mean()\n",
    "\n",
    "population.groupby('Country').max()\n",
    "\n",
    "population.groupby('Country').first()\n",
    "\n",
    "population.groupby('Country').count().head()"
   ]
  },
  {
   "cell_type": "code",
   "execution_count": null,
   "metadata": {
    "collapsed": false
   },
   "outputs": [],
   "source": [
    "%matplotlib inline\n",
    "\n",
    "# a quick viz ...\n",
    "\n",
    "pop_series = population.set_index('City / Urban area')['Population'].copy() \n",
    "# we must use copy() otherwise the columns is a view (reference)\n",
    "\n",
    "pop_series.sort_values(inplace=True, ascending=False)\n",
    "\n",
    "pop_series.head().plot(kind='bar')"
   ]
  },
  {
   "cell_type": "code",
   "execution_count": null,
   "metadata": {
    "collapsed": false
   },
   "outputs": [],
   "source": [
    "pop_series.head()"
   ]
  },
  {
   "cell_type": "code",
   "execution_count": null,
   "metadata": {
    "collapsed": false
   },
   "outputs": [],
   "source": [
    "population = pd.read_csv('data/population.csv')\n",
    "\n",
    "\n",
    "# return unique values in column\n",
    "population.Country.unique()\n",
    "\n",
    "# return counts of unique values in column\n",
    "population.Country.value_counts()\n",
    "\n",
    "population.rename(columns={'Country': 'country'}, inplace=True)\n",
    "\n",
    "# return shape in format: (num rows, num cols)\n",
    "population.shape\n",
    "\n",
    "# transpose dataframe\n",
    "population.T"
   ]
  },
  {
   "cell_type": "code",
   "execution_count": null,
   "metadata": {
    "collapsed": false
   },
   "outputs": [],
   "source": [
    "# simple operations are executed directly on columns:\n",
    "\n",
    "# population in millions\n",
    "population['Population'] / 1000000\n",
    "\n",
    "# concatenation of country and city\n",
    "'Country: ' + population['country'] + ', City:' + population['City / Urban area']\n",
    "\n",
    "# but some operations need to be executed on elements:\n",
    "\n",
    "# convert column values to lowercase\n",
    "#population['country'].lower() # doesn't work\n",
    "population['country'].apply(lambda x: x.lower())\n",
    "\n",
    "# include condition in the transformation: if population is under 3 million replace value with '<3M'\n",
    "#'<3M' if population['Population'] < 3000000 else pass # doesn't work\n",
    "population['Population'].apply(lambda x: '<3M' if x < 3000000 else x)"
   ]
  },
  {
   "cell_type": "markdown",
   "metadata": {},
   "source": [
    "# Exercise 1"
   ]
  },
  {
   "cell_type": "markdown",
   "metadata": {},
   "source": [
    "# Exercise 2"
   ]
  },
  {
   "cell_type": "code",
   "execution_count": null,
   "metadata": {
    "collapsed": true
   },
   "outputs": [],
   "source": []
  }
 ],
 "metadata": {
  "kernelspec": {
   "display_name": "Python 3",
   "language": "python",
   "name": "python3"
  },
  "language_info": {
   "codemirror_mode": {
    "name": "ipython",
    "version": 3
   },
   "file_extension": ".py",
   "mimetype": "text/x-python",
   "name": "python",
   "nbconvert_exporter": "python",
   "pygments_lexer": "ipython3",
   "version": "3.5.1"
  }
 },
 "nbformat": 4,
 "nbformat_minor": 0
}
