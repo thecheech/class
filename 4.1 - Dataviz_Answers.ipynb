{
 "cells": [
  {
   "cell_type": "code",
   "execution_count": null,
   "metadata": {
    "collapsed": true
   },
   "outputs": [],
   "source": [
    "%matplotlib inline\n",
    "\n",
    "import matplotlib\n",
    "import matplotlib.pyplot as plt\n",
    "\n",
    "from sklearn import datasets\n",
    "import pandas as pd"
   ]
  },
  {
   "cell_type": "code",
   "execution_count": null,
   "metadata": {
    "collapsed": true
   },
   "outputs": [],
   "source": [
    "data = datasets.load_iris()['data']\n",
    "feature_names = datasets.load_iris()['feature_names']\n",
    "target = datasets.load_iris()['target']\n",
    "target_names = datasets.load_iris()['target_names']"
   ]
  },
  {
   "cell_type": "code",
   "execution_count": null,
   "metadata": {
    "collapsed": true
   },
   "outputs": [],
   "source": [
    "df = pd.DataFrame(data, columns=feature_names)\n",
    "\n",
    "df['target'] = target\n",
    "df['target'] = df['target'].apply(lambda x: target_names[x])"
   ]
  },
  {
   "cell_type": "code",
   "execution_count": null,
   "metadata": {
    "collapsed": true
   },
   "outputs": [],
   "source": [
    "import pandas as pd\n",
    "df = pd.DataFrame(data, columns=feature_names)\n",
    "\n",
    "df['target'] = target\n",
    "df['target'] = df['target'].apply(lambda x: target_names[x])"
   ]
  },
  {
   "cell_type": "code",
   "execution_count": null,
   "metadata": {
    "collapsed": true
   },
   "outputs": [],
   "source": [
    "df_setosa = df[df['target'] == 'setosa']\n",
    "df_versicolor = df[df['target'] == 'versicolor']\n",
    "df_virginica = df[df['target'] == 'virginica']"
   ]
  },
  {
   "cell_type": "code",
   "execution_count": null,
   "metadata": {
    "collapsed": true
   },
   "outputs": [],
   "source": [
    "## Exercises start here ..."
   ]
  },
  {
   "cell_type": "code",
   "execution_count": null,
   "metadata": {
    "collapsed": false
   },
   "outputs": [],
   "source": [
    "plt.figure(figsize=(7,7))\n",
    "\n",
    "plt.scatter(df_setosa['sepal length (cm)'], df_setosa['sepal width (cm)'], color='red')\n",
    "plt.scatter(df_versicolor['sepal length (cm)'], df_versicolor['sepal width (cm)'], color='green')\n",
    "plt.scatter(df_virginica['sepal length (cm)'], df_virginica['sepal width (cm)'], color='blue')\n",
    "\n",
    "plt.title('sepal')\n",
    "plt.xlabel('sepal length (cm)')\n",
    "plt.ylabel('number of width (cm)')\n",
    "\n",
    "plt.savefig(\"data/plt1.png\")"
   ]
  },
  {
   "cell_type": "code",
   "execution_count": null,
   "metadata": {
    "collapsed": false
   },
   "outputs": [],
   "source": [
    "plt.figure(figsize=(7,7))\n",
    "\n",
    "plt.hist(df_setosa['sepal length (cm)'], color='orange')\n",
    "\n",
    "plt.title('sepal length (cm) histogram')\n",
    "plt.xlabel('sepal length (cm)')\n",
    "plt.ylabel('number of flowers in dataset')\n",
    "\n",
    "plt.savefig(\"data/plt2.png\")"
   ]
  },
  {
   "cell_type": "code",
   "execution_count": null,
   "metadata": {
    "collapsed": true
   },
   "outputs": [],
   "source": []
  }
 ],
 "metadata": {
  "kernelspec": {
   "display_name": "Python 3",
   "language": "python",
   "name": "python3"
  },
  "language_info": {
   "codemirror_mode": {
    "name": "ipython",
    "version": 3
   },
   "file_extension": ".py",
   "mimetype": "text/x-python",
   "name": "python",
   "nbconvert_exporter": "python",
   "pygments_lexer": "ipython3",
   "version": "3.5.1"
  }
 },
 "nbformat": 4,
 "nbformat_minor": 0
}
