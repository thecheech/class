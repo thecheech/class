{
 "cells": [
  {
   "cell_type": "markdown",
   "metadata": {},
   "source": [
    "# Core Python Answers"
   ]
  },
  {
   "cell_type": "markdown",
   "metadata": {},
   "source": [
    "## Exercise 1"
   ]
  },
  {
   "cell_type": "code",
   "execution_count": null,
   "metadata": {
    "collapsed": false
   },
   "outputs": [],
   "source": [
    "# For loop\n",
    "s=0\n",
    "for i in range(1000):\n",
    "    if i%3 == 0 or i%5 == 0:\n",
    "        s += i\n",
    "print(s)\n",
    "\n",
    "# List comprehension\n",
    "sum([i for i in range(1000) if i%3 == 0 or i%5 == 0])"
   ]
  },
  {
   "cell_type": "markdown",
   "metadata": {},
   "source": [
    "## Exercise 2"
   ]
  },
  {
   "cell_type": "code",
   "execution_count": null,
   "metadata": {
    "collapsed": false
   },
   "outputs": [],
   "source": [
    "def func(name):\n",
    "    print(len(name))\n",
    "    if len(name) % 2 == 0:\n",
    "        print(name[0])\n",
    "    return name[::-1]\n",
    "\n",
    "a = func('Koby')\n",
    "print('returned %s' % a)"
   ]
  },
  {
   "cell_type": "markdown",
   "metadata": {},
   "source": [
    "## Exercise 3"
   ]
  },
  {
   "cell_type": "code",
   "execution_count": null,
   "metadata": {
    "collapsed": false
   },
   "outputs": [],
   "source": [
    "digits = {\n",
    "    'zero': 0,\n",
    "    'one': 1,\n",
    "    'two': 2,\n",
    "    'three': 3,\n",
    "    'four': 4,\n",
    "    'five': 5,\n",
    "    'six': 6,\n",
    "    'seven': 7,\n",
    "    'eight': 8,\n",
    "    'nine': 9\n",
    "}\n",
    "\n",
    "\n",
    "def func(digit1, digit2, operation):\n",
    "    num1 = digits[digit1]\n",
    "    num2 = digits[digit2]\n",
    "    \n",
    "    if operation == 'add':\n",
    "        return num1 + num2\n",
    "    elif operation == 'substract':\n",
    "        return num1 - num2\n",
    "    elif operation =='multiply':\n",
    "        return num1 * num2\n",
    "    elif operation == 'divide':\n",
    "        return num1 / num2\n",
    "    else:\n",
    "        raise Exception('unknown operation')\n",
    "        \n",
    "print(func('two', 'three', 'multiply'))\n",
    "print(func('seven', 'eight', 'divide'))"
   ]
  },
  {
   "cell_type": "markdown",
   "metadata": {},
   "source": [
    "## Exercise 4"
   ]
  },
  {
   "cell_type": "code",
   "execution_count": null,
   "metadata": {
    "collapsed": false
   },
   "outputs": [],
   "source": [
    "import datetime\n",
    "\n",
    "now = datetime.datetime.now().date()\n",
    "\n",
    "with open(\"output/today.txt\", \"w\") as f:\n",
    "    f.write('%s' % now)"
   ]
  },
  {
   "cell_type": "code",
   "execution_count": null,
   "metadata": {
    "collapsed": false
   },
   "outputs": [],
   "source": [
    "!cat output/today.txt "
   ]
  },
  {
   "cell_type": "markdown",
   "metadata": {},
   "source": [
    "## Exercise 5"
   ]
  },
  {
   "cell_type": "markdown",
   "metadata": {},
   "source": [
    "hint: convert to string"
   ]
  },
  {
   "cell_type": "code",
   "execution_count": null,
   "metadata": {
    "collapsed": false
   },
   "outputs": [],
   "source": [
    "def is_palindrome(num):\n",
    "    str_num = str(num)\n",
    "    return str_num == str_num[::-1]\n",
    "\n",
    "print(is_palindrome(12321))\n",
    "print(is_palindrome(1231))"
   ]
  },
  {
   "cell_type": "code",
   "execution_count": null,
   "metadata": {
    "collapsed": false
   },
   "outputs": [],
   "source": [
    "m = 0  # max\n",
    "for i in range(1000):\n",
    "    for j in range(1000):\n",
    "        p = i * j  # sum\n",
    "        if is_palindrome(p) and p > m:\n",
    "            m=p\n",
    "            save_i = i\n",
    "            save_j = j\n",
    "            \n",
    "print(save_i)\n",
    "print(save_j)\n",
    "print(m)"
   ]
  }
 ],
 "metadata": {
  "kernelspec": {
   "display_name": "Python 3",
   "language": "python",
   "name": "python3"
  },
  "language_info": {
   "codemirror_mode": {
    "name": "ipython",
    "version": 3
   },
   "file_extension": ".py",
   "mimetype": "text/x-python",
   "name": "python",
   "nbconvert_exporter": "python",
   "pygments_lexer": "ipython3",
   "version": "3.5.1"
  }
 },
 "nbformat": 4,
 "nbformat_minor": 0
}
